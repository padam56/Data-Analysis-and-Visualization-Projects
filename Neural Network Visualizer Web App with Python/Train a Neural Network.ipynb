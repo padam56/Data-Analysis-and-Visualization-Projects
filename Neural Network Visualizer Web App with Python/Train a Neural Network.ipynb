{
 "cells": [
  {
   "cell_type": "markdown",
   "metadata": {},
   "source": [
    "# Import Libraries"
   ]
  },
  {
   "cell_type": "code",
   "execution_count": 1,
   "metadata": {},
   "outputs": [],
   "source": [
    "%matplotlib inline\n",
    "\n",
    "import tensorflow as tf\n",
    "import numpy as np\n",
    "import matplotlib.pyplot as plt\n",
    "from jupyterthemes import jtplot\n",
    "jtplot.style(theme='monokai', context='notebook', ticks=True, grid=False)"
   ]
  },
  {
   "cell_type": "markdown",
   "metadata": {},
   "source": [
    "# Download Data"
   ]
  },
  {
   "cell_type": "code",
   "execution_count": 2,
   "metadata": {},
   "outputs": [],
   "source": [
    "(x_train, y_train), (x_test, y_test) = tf.keras.datasets.mnist.load_data()"
   ]
  },
  {
   "cell_type": "markdown",
   "metadata": {},
   "source": [
    "# Plot Examples"
   ]
  },
  {
   "cell_type": "code",
   "execution_count": 3,
   "metadata": {},
   "outputs": [
    {
     "data": {
      "image/png": "[encoded data removed]",
      "text/plain": [
       "<Figure size 720x720 with 16 Axes>"
      ]
     },
     "metadata": {},
     "output_type": "display_data"
    }
   ],
   "source": [
    "plt.figure(figsize=(10, 10))\n",
    "\n",
    "for i in range(16):\n",
    "    plt.subplot(4, 4, i + 1)\n",
    "    plt.imshow(x_train[i], cmap='binary')\n",
    "    plt.xlabel(str(y_train[i]))\n",
    "    plt.xticks([])\n",
    "    plt.yticks([])\n",
    "plt.show()"
   ]
  },
  {
   "cell_type": "markdown",
   "metadata": {},
   "source": [
    "# Normalize Data"
   ]
  },
  {
   "cell_type": "code",
   "execution_count": 4,
   "metadata": {},
   "outputs": [
    {
     "data": {
      "text/plain": [
       "(10000, 28, 28)"
      ]
     },
     "execution_count": 4,
     "metadata": {},
     "output_type": "execute_result"
    }
   ],
   "source": [
    "x_test.shape"
   ]
  },
  {
   "cell_type": "code",
   "execution_count": 5,
   "metadata": {},
   "outputs": [
    {
     "data": {
      "text/plain": [
       "(60000, 28, 28)"
      ]
     },
     "execution_count": 5,
     "metadata": {},
     "output_type": "execute_result"
    }
   ],
   "source": [
    "x_train.shape"
   ]
  },
  {
   "cell_type": "code",
   "execution_count": 6,
   "metadata": {},
   "outputs": [],
   "source": [
    "#x_train[0]\n",
    "#y_train[0]"
   ]
  },
  {
   "cell_type": "code",
   "execution_count": 7,
   "metadata": {},
   "outputs": [],
   "source": [
    "x_train = np.reshape(x_train, (60000, 28*28)) #Unstacking\n",
    "x_train = x_train / 255.                      #Normalizing (0-1)- leads to a faster and better conversions of our model during the training processb\n",
    "\n",
    "x_test = np.reshape(x_test, (10000, 784))\n",
    "x_test = x_test / 255."
   ]
  },
  {
   "cell_type": "code",
   "execution_count": 8,
   "metadata": {},
   "outputs": [],
   "source": [
    "#x_train[0].shape\n",
    "#x_train.shape"
   ]
  },
  {
   "cell_type": "markdown",
   "metadata": {},
   "source": [
    "# Create a Neural Network Model"
   ]
  },
  {
   "cell_type": "code",
   "execution_count": 9,
   "metadata": {},
   "outputs": [],
   "source": [
    "model = tf.keras.models.Sequential([\n",
    "    tf.keras.layers.Dense(32, activation='sigmoid', input_shape=(784,)),\n",
    "    tf.keras.layers.Dense(32, activation='sigmoid'),\n",
    "    tf.keras.layers.Dense(10, activation='softmax')\n",
    "])\n",
    "\n",
    "model.compile(loss='sparse_categorical_crossentropy', optimizer='adam', metrics=['accuracy'])"
   ]
  },
  {
   "cell_type": "markdown",
   "metadata": {},
   "source": [
    "# Train the Model"
   ]
  },
  {
   "cell_type": "code",
   "execution_count": 10,
   "metadata": {},
   "outputs": [
    {
     "name": "stdout",
     "output_type": "stream",
     "text": [
      "Epoch 1/20\n",
      "118/118 - 2s - loss: 2.0372 - accuracy: 0.5131 - val_loss: 1.6407 - val_accuracy: 0.7045\n",
      "Epoch 2/20\n",
      "118/118 - 1s - loss: 1.3120 - accuracy: 0.7594 - val_loss: 1.0204 - val_accuracy: 0.8243\n",
      "Epoch 3/20\n",
      "118/118 - 1s - loss: 0.8461 - accuracy: 0.8447 - val_loss: 0.6879 - val_accuracy: 0.8754\n",
      "Epoch 4/20\n",
      "118/118 - 1s - loss: 0.6013 - accuracy: 0.8796 - val_loss: 0.5159 - val_accuracy: 0.8918\n",
      "Epoch 5/20\n",
      "118/118 - 1s - loss: 0.4711 - accuracy: 0.8963 - val_loss: 0.4197 - val_accuracy: 0.9044\n",
      "Epoch 6/20\n",
      "118/118 - 1s - loss: 0.3949 - accuracy: 0.9055 - val_loss: 0.3606 - val_accuracy: 0.9120\n",
      "Epoch 7/20\n",
      "118/118 - 1s - loss: 0.3457 - accuracy: 0.9126 - val_loss: 0.3217 - val_accuracy: 0.9171\n",
      "Epoch 8/20\n",
      "118/118 - 1s - loss: 0.3112 - accuracy: 0.9187 - val_loss: 0.2939 - val_accuracy: 0.9218\n",
      "Epoch 9/20\n",
      "118/118 - 1s - loss: 0.2849 - accuracy: 0.9244 - val_loss: 0.2730 - val_accuracy: 0.9250\n",
      "Epoch 10/20\n",
      "118/118 - 1s - loss: 0.2646 - accuracy: 0.9286 - val_loss: 0.2562 - val_accuracy: 0.9308\n",
      "Epoch 11/20\n",
      "118/118 - 1s - loss: 0.2476 - accuracy: 0.9324 - val_loss: 0.2412 - val_accuracy: 0.9318\n",
      "Epoch 12/20\n",
      "118/118 - 1s - loss: 0.2334 - accuracy: 0.9356 - val_loss: 0.2289 - val_accuracy: 0.9352\n",
      "Epoch 13/20\n",
      "118/118 - 1s - loss: 0.2205 - accuracy: 0.9389 - val_loss: 0.2184 - val_accuracy: 0.9372\n",
      "Epoch 14/20\n",
      "118/118 - 1s - loss: 0.2092 - accuracy: 0.9418 - val_loss: 0.2121 - val_accuracy: 0.9391\n",
      "Epoch 15/20\n",
      "118/118 - 1s - loss: 0.1991 - accuracy: 0.9441 - val_loss: 0.2024 - val_accuracy: 0.9416\n",
      "Epoch 16/20\n",
      "118/118 - 1s - loss: 0.1901 - accuracy: 0.9473 - val_loss: 0.1947 - val_accuracy: 0.9440\n",
      "Epoch 17/20\n",
      "118/118 - 1s - loss: 0.1813 - accuracy: 0.9495 - val_loss: 0.1876 - val_accuracy: 0.9450\n",
      "Epoch 18/20\n",
      "118/118 - 1s - loss: 0.1736 - accuracy: 0.9512 - val_loss: 0.1819 - val_accuracy: 0.9461\n",
      "Epoch 19/20\n",
      "118/118 - 1s - loss: 0.1666 - accuracy: 0.9534 - val_loss: 0.1762 - val_accuracy: 0.9473\n",
      "Epoch 20/20\n",
      "118/118 - 1s - loss: 0.1597 - accuracy: 0.9551 - val_loss: 0.1715 - val_accuracy: 0.9482\n"
     ]
    }
   ],
   "source": [
    "_ = model.fit(\n",
    "    x_train, y_train,\n",
    "    validation_data=(x_test, y_test),\n",
    "    epochs=20, batch_size=512,\n",
    "    verbose=2\n",
    ")"
   ]
  },
  {
   "cell_type": "markdown",
   "metadata": {},
   "source": [
    "# Save the Model"
   ]
  },
  {
   "cell_type": "code",
   "execution_count": 11,
   "metadata": {},
   "outputs": [],
   "source": [
    "model.save('model.h5')"
   ]
  },
  {
   "cell_type": "markdown",
   "metadata": {},
   "source": [
    "# ML Server"
   ]
  },
  {
   "cell_type": "code",
   "execution_count": 12,
   "metadata": {},
   "outputs": [
    {
     "name": "stdout",
     "output_type": "stream",
     "text": [
      "Overwriting ml_server.py\n"
     ]
    }
   ],
   "source": [
    "%%writefile ml_server.py\n",
    "\n",
    "import json\n",
    "import tensorflow as tf\n",
    "import numpy as np\n",
    "import os\n",
    "import random\n",
    "import string\n",
    "\n",
    "from flask import Flask, request\n",
    "\n",
    "app = Flask(__name__)\n",
    "\n",
    "model = tf.keras.models.load_model('model.h5')\n",
    "feature_model = tf.keras.models.Model( #Give us output of all layers\n",
    "    model.inputs,\n",
    "    [layer.output for layer in model.layers]\n",
    ")\n",
    "\n",
    "_, (x_test, _) = tf.keras.datasets.mnist.load_data()\n",
    "x_test = x_test / 255.\n",
    "\n",
    "def get_prediction():\n",
    "    index = np.random.choice(x_test.shape[0])\n",
    "    image = x_test[index,:,:]\n",
    "    image_arr = np.reshape(image, (1, 784))\n",
    "    return feature_model.predict(image_arr), image\n",
    "\n",
    "@app.route('/', methods=['GET', 'POST'])\n",
    "def index():\n",
    "    if request.method == 'POST':\n",
    "        preds, image = get_prediction()\n",
    "        final_preds = [p.tolist() for p in preds]\n",
    "        return json.dumps({\n",
    "            'prediction': final_preds,\n",
    "            'image': image.tolist()\n",
    "        })\n",
    "    return 'Welcome to the ml server'\n",
    "\n",
    "if __name__ == '__main__':\n",
    "    app.run()"
   ]
  },
  {
   "cell_type": "markdown",
   "metadata": {},
   "source": [
    "# Streamlit Web App"
   ]
  },
  {
   "cell_type": "code",
   "execution_count": 15,
   "metadata": {},
   "outputs": [
    {
     "name": "stdout",
     "output_type": "stream",
     "text": [
      "Overwriting app.py\n"
     ]
    }
   ],
   "source": [
    "%%writefile app.py\n",
    "\n",
    "import requests\n",
    "import json\n",
    "import numpy as np\n",
    "import streamlit as st\n",
    "import os\n",
    "import matplotlib.pyplot as plt\n",
    "\n",
    "URI = 'http://127.0.0.1:5000'\n",
    "st.set_option('deprecation.showPyplotGlobalUse', False)\n",
    "\n",
    "st.title('Neural Network Visualizer')\n",
    "st.sidebar.markdown('# Input Image')\n",
    "\n",
    "if st.button('Get random predictions'):\n",
    "    response = requests.post(URI, data={})\n",
    "    # print(response.text)\n",
    "    response = json.loads(response.text)\n",
    "    preds = response.get('prediction')\n",
    "    image = response.get('image')\n",
    "    image = np.reshape(image, (28, 28))\n",
    "\n",
    "    st.sidebar.image(image, width=150)\n",
    "\n",
    "    for layer, p in enumerate(preds):\n",
    "        numbers = np.squeeze(np.array(p))\n",
    "\n",
    "        plt.figure(figsize=(32, 4))\n",
    "\n",
    "        if layer == 2:\n",
    "            row = 1\n",
    "            col = 10\n",
    "        else:\n",
    "            row = 2\n",
    "            col = 16\n",
    "\n",
    "        for i, number in enumerate(numbers):\n",
    "            plt.subplot(row, col, i + 1)\n",
    "            plt.imshow((number * np.ones((8, 8, 3))).astype('float32'), cmap='binary')\n",
    "            plt.xticks([])\n",
    "            plt.yticks([])\n",
    "            if layer == 2:\n",
    "                plt.xlabel(str(i), fontsize=40)\n",
    "        plt.subplots_adjust(wspace=0.05, hspace=0.05)\n",
    "        plt.tight_layout()\n",
    "        \n",
    "        st.text('Layer {}'.format(layer + 1))\n",
    "        st.pyplot()"
   ]
  },
  {
   "cell_type": "code",
   "execution_count": null,
   "metadata": {},
   "outputs": [],
   "source": []
  }
 ],
 "metadata": {
  "kernelspec": {
   "display_name": "Python 3",
   "language": "python",
   "name": "python3"
  },
  "language_info": {
   "codemirror_mode": {
    "name": "ipython",
    "version": 3
   },
   "file_extension": ".py",
   "mimetype": "text/x-python",
   "name": "python",
   "nbconvert_exporter": "python",
   "pygments_lexer": "ipython3",
   "version": "3.8.8"
  }
 },
 "nbformat": 4,
 "nbformat_minor": 2
}
