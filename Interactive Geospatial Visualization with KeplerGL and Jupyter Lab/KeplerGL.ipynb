{
  "cells": [
    {
      "cell_type": "markdown",
      "metadata": {
        "id": "4kXXRE8nrEDw"
      },
      "source": [
        "# Kepler GL"
      ]
    },
    {
      "cell_type": "code",
      "execution_count": null,
      "metadata": {
        "collapsed": true,
        "id": "jjN9sWGrorNd"
      },
      "outputs": [],
      "source": [
        "!pip install keplergl"
      ]
    },
    {
      "cell_type": "code",
      "execution_count": null,
      "metadata": {
        "id": "UWMZ3rswnSRS"
      },
      "outputs": [],
      "source": [
        "import pandas as pd\n",
        "import geopandas as gpd\n",
        "from keplergl import KeplerGl"
      ]
    },
    {
      "cell_type": "code",
      "execution_count": null,
      "metadata": {
        "id": "79VuJ4V2onNP"
      },
      "outputs": [],
      "source": [
        "#Create a basemap\n",
        "m = KeplerGl(height=600, width=800)\n",
        "\n",
        "#show the map\n",
        "m"
      ]
    },
    {
      "cell_type": "code",
      "execution_count": null,
      "metadata": {
        "id": "bo5Ws322pCof"
      },
      "outputs": [],
      "source": [
        "from google.colab import output\n",
        "output.enable_custom_widget_manager()"
      ]
    },
    {
      "cell_type": "code",
      "execution_count": null,
      "metadata": {
        "id": "V6EGQpVApCom"
      },
      "outputs": [],
      "source": [
        "# Create a Dataframe\n",
        "df = pd.DataFrame(\n",
        "    {\n",
        "        \"City\": [\"Shanghai\", \"Sao paulo\", \"Cairo\", \"London\", \"Toronto\", \"Sydney\"],\n",
        "        \"Country\": [\"China\", \"Brazil\", \"Egypt\", \"England\", \"Canada\", \"Australia\"],\n",
        "        \"Latitude\": [31.045556, -23.473293, 30.05, 51.514125, 43.666667, -33.861481],\n",
        "        \"Longitude\": [121.399722, -46.665803, 31.25, -0.093689, -79.416667, 151.205475],\n",
        "        \"Population\": [14608512, 10021437, 7734602, 7421228, 4612187, 4394585],\n",
        "    }\n",
        ")\n",
        "\n",
        "\n",
        "df"
      ]
    },
    {
      "cell_type": "code",
      "execution_count": null,
      "metadata": {
        "cellView": "form",
        "id": "vgHJSj_SrgJY"
      },
      "outputs": [],
      "source": [
        "# from google.colab import sheets\n",
        "# sheet = sheets.InteractiveSheet(df=df)"
      ]
    },
    {
      "cell_type": "code",
      "execution_count": null,
      "metadata": {
        "id": "TRDYSRmSpl1k"
      },
      "outputs": [],
      "source": [
        "# # @title Population\n",
        "\n",
        "# from matplotlib import pyplot as plt\n",
        "# df['Population'].plot(kind='hist', bins=20, title='Population')\n",
        "# plt.gca().spines[['top', 'right',]].set_visible(False)"
      ]
    },
    {
      "cell_type": "code",
      "execution_count": null,
      "metadata": {
        "id": "KUlV1kX5pViz"
      },
      "outputs": [],
      "source": [
        "m = KeplerGl(height=400, width=500)\n",
        "m.add_data(data=df, name='cities')"
      ]
    },
    {
      "cell_type": "code",
      "execution_count": null,
      "metadata": {
        "id": "ER5i4bWmpXuo"
      },
      "outputs": [],
      "source": [
        "m"
      ]
    },
    {
      "cell_type": "markdown",
      "metadata": {
        "id": "eVJHgHN4rPV8"
      },
      "source": [
        "# Adding Geographic Data"
      ]
    },
    {
      "cell_type": "code",
      "execution_count": null,
      "metadata": {
        "id": "HWJhYtdprXLG"
      },
      "outputs": [],
      "source": [
        "parking_df = pd.read_csv(\"/content/parking_violations_2015.csv\")\n",
        "parking_df.head()"
      ]
    },
    {
      "cell_type": "code",
      "execution_count": null,
      "metadata": {
        "id": "jbjmj-zrsm-q"
      },
      "outputs": [],
      "source": [
        "parking_df.shape"
      ]
    },
    {
      "cell_type": "code",
      "execution_count": null,
      "metadata": {
        "id": "plzQGwQMsr0O"
      },
      "outputs": [],
      "source": [
        "parking_df.dropna(subset=[\"lat\", \"lon\"], how='all', inplace=True)"
      ]
    },
    {
      "cell_type": "code",
      "execution_count": null,
      "metadata": {
        "id": "ucKw8eu2stV9"
      },
      "outputs": [],
      "source": [
        "parking_df.shape"
      ]
    },
    {
      "cell_type": "code",
      "execution_count": null,
      "metadata": {
        "id": "uLTYKIIosu3i"
      },
      "outputs": [],
      "source": [
        "gdf = gpd.GeoDataFrame(parking_df, geometry=gpd.points_from_xy(parking_df.lon, parking_df.lat), crs=\"EPSG:4326\")\n",
        "gdf.head()"
      ]
    },
    {
      "cell_type": "code",
      "execution_count": null,
      "metadata": {
        "id": "LAsOjjDisyG4"
      },
      "outputs": [],
      "source": [
        "gdf.to_file(\"/content/parking_2015.geojson\",  driver='GeoJSON')\n"
      ]
    },
    {
      "cell_type": "code",
      "execution_count": null,
      "metadata": {
        "id": "CIsYzY6As3iE"
      },
      "outputs": [],
      "source": [
        "m = KeplerGl(height=900)\n",
        "m.add_data(data=gdf, name='parking_points')\n",
        "m"
      ]
    },
    {
      "cell_type": "markdown",
      "metadata": {
        "id": "nUDDbg4ctPQ-"
      },
      "source": [
        "# 3D Hexagon"
      ]
    },
    {
      "cell_type": "code",
      "execution_count": null,
      "metadata": {
        "id": "rWeNh8xRtCg_"
      },
      "outputs": [],
      "source": [
        "gdf = gpd.read_file(\"/content/parking_2015.geojson\")\n",
        "gdf.head()"
      ]
    },
    {
      "cell_type": "code",
      "execution_count": null,
      "metadata": {
        "id": "f0Lgz2b_tQ2D"
      },
      "outputs": [],
      "source": [
        "m = KeplerGl(height=900)\n",
        "m.add_data(data=gdf, name='3dHexagon')\n",
        "m"
      ]
    },
    {
      "cell_type": "markdown",
      "metadata": {
        "id": "xjgYVTEXtrID"
      },
      "source": [
        "# Animation"
      ]
    },
    {
      "cell_type": "code",
      "execution_count": null,
      "metadata": {
        "id": "BJakv4XjtXc3"
      },
      "outputs": [],
      "source": [
        "gdf = gpd.read_file(\"/content/parking_2015.geojson\", parse_dates=True)\n",
        "gdf.head()"
      ]
    },
    {
      "cell_type": "code",
      "execution_count": null,
      "metadata": {
        "id": "Bfc-2QYwtlm5"
      },
      "outputs": [],
      "source": [
        "gdf[\"issue_datetime\"] = pd.to_datetime(gdf[\"issue_datetime\"], dayfirst=True)"
      ]
    },
    {
      "cell_type": "code",
      "execution_count": null,
      "metadata": {
        "id": "ny_sQt-atnrW"
      },
      "outputs": [],
      "source": [
        "gdf.sample(10)"
      ]
    },
    {
      "cell_type": "code",
      "execution_count": null,
      "metadata": {
        "id": "U3wTl_8StwXE"
      },
      "outputs": [],
      "source": [
        "m = KeplerGl(height=900)\n",
        "m.add_data(data=gdf, name='animation')\n",
        "m"
      ]
    },
    {
      "cell_type": "markdown",
      "metadata": {
        "id": "DLLVX6fSt180"
      },
      "source": [
        "# Choropleth Map"
      ]
    },
    {
      "cell_type": "code",
      "execution_count": null,
      "metadata": {
        "id": "36cXRsoztxxm"
      },
      "outputs": [],
      "source": [
        "neighborhoods = gpd.read_file(\"/content/neighbrhoods.geojson\")\n",
        "neighborhoods.head()"
      ]
    },
    {
      "cell_type": "code",
      "execution_count": null,
      "metadata": {
        "id": "KhhfwynsuFBx"
      },
      "outputs": [],
      "source": [
        "neighborhoods.crs"
      ]
    },
    {
      "cell_type": "code",
      "execution_count": null,
      "metadata": {
        "id": "i9PONK9FuGgf"
      },
      "outputs": [],
      "source": [
        "neighborhoods = neighborhoods.to_crs(\"EPSG:4326\")"
      ]
    },
    {
      "cell_type": "code",
      "execution_count": null,
      "metadata": {
        "id": "IbpoOQhHuH4Y"
      },
      "outputs": [],
      "source": [
        "m = KeplerGl(height=900)\n",
        "m.add_data(data=neighborhoods, name='choropleth_map')\n",
        "m"
      ]
    },
    {
      "cell_type": "code",
      "execution_count": null,
      "metadata": {
        "id": "82F-tacWuI2t"
      },
      "outputs": [],
      "source": [
        "gdf = gpd.read_file(\"/content/parking_2015.geojson\")\n",
        "gdf.head()"
      ]
    },
    {
      "cell_type": "code",
      "execution_count": null,
      "metadata": {
        "id": "TZDV6FmZuR1b"
      },
      "outputs": [],
      "source": [
        "neighborhoods = gpd.read_file(\"/content/neighbrhoods.geojson\")\n",
        "neighborhoods.head()"
      ]
    },
    {
      "cell_type": "code",
      "execution_count": null,
      "metadata": {
        "id": "VR9Q5_XtuapX"
      },
      "outputs": [],
      "source": [
        "gdf.crs == neighborhoods.crs"
      ]
    },
    {
      "cell_type": "code",
      "execution_count": null,
      "metadata": {
        "id": "xDvMsm5ZucBF"
      },
      "outputs": [],
      "source": [
        "neighborhoods = neighborhoods.to_crs(\"EPSG:4326\")"
      ]
    },
    {
      "cell_type": "code",
      "execution_count": null,
      "metadata": {
        "id": "b38QrcymudHh"
      },
      "outputs": [],
      "source": [
        "gdf.crs == neighborhoods.crs"
      ]
    },
    {
      "cell_type": "code",
      "execution_count": null,
      "metadata": {
        "id": "rHUFa-gvueG8"
      },
      "outputs": [],
      "source": [
        "location_join = gpd.sjoin(gdf, neighborhoods, op=\"within\")"
      ]
    },
    {
      "cell_type": "code",
      "execution_count": null,
      "metadata": {
        "id": "swazEmrZufFd"
      },
      "outputs": [],
      "source": [
        "location_join.head()"
      ]
    },
    {
      "cell_type": "code",
      "execution_count": null,
      "metadata": {
        "id": "7oaMcvWpuga-"
      },
      "outputs": [],
      "source": [
        "def count_numpoints(joined, polygons, merge_on):\n",
        "    grouped = joined.groupby(merge_on).size()\n",
        "    df = grouped.to_frame().reset_index()\n",
        "    df.columns = [merge_on, \"Count\"]\n",
        "    return polygons.merge(df, on=merge_on, how=\"outer\")\n",
        "\n",
        "numpoints_per_neigh = count_numpoints(location_join, neighborhoods, \"NAME\")\n",
        "numpoints_per_neigh.head()"
      ]
    },
    {
      "cell_type": "code",
      "execution_count": null,
      "metadata": {
        "id": "A8U9b7SRuhfH"
      },
      "outputs": [],
      "source": [
        "m = KeplerGl(height=900)\n",
        "m.add_data(data=numpoints_per_neigh, name='choropleth_map')\n",
        "m"
      ]
    }
  ],
  "metadata": {
    "colab": {
      "provenance": []
    },
    "kernelspec": {
      "display_name": "Python 3",
      "name": "python3"
    },
    "language_info": {
      "name": "python"
    }
  },
  "nbformat": 4,
  "nbformat_minor": 0
}